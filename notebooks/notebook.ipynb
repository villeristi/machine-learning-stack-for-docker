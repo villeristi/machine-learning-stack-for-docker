{
 "cells": [
  {
   "cell_type": "markdown",
   "metadata": {},
   "source": [
    "# Machine Learning stack for Docker\n",
    "\n",
    "Kickstart your Machine Learning experiments with Python 3.6 & this toolkit.\n",
    "\n",
    "**Libraries included:**\n",
    "  * [jupyter](http://jupyter.org/)\n",
    "  * [keras](https://keras.io/)\n",
    "  * [MRJob](https://pythonhosted.org/mrjob/)\n",
    "  * [matplotlib](https://matplotlib.org/)\n",
    "  * [numpy](http://www.numpy.org/)\n",
    "  * [opencv-python](https://opencv.org/)\n",
    "  * [pandas](https://pandas.pydata.org/)\n",
    "  * [requests](http://docs.python-requests.org/en/master/)\n",
    "  * [scikit-learn](http://scikit-learn.org/stable/)\n",
    "  * [scipy](https://www.scipy.org/)\n",
    "  * [seaborn](https://seaborn.pydata.org/)\n",
    "  * [tensorflow](https://www.tensorflow.org/)"
   ]
  }
 ],
 "metadata": {
  "kernelspec": {
   "display_name": "Python 3",
   "language": "python",
   "name": "python3"
  },
  "language_info": {
   "codemirror_mode": {
    "name": "ipython",
    "version": 3
   },
   "file_extension": ".py",
   "mimetype": "text/x-python",
   "name": "python",
   "nbconvert_exporter": "python",
   "pygments_lexer": "ipython3",
   "version": "3.6.5"
  }
 },
 "nbformat": 4,
 "nbformat_minor": 2
}
